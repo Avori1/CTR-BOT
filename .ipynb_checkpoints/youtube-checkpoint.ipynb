{
 "cells": [
  {
   "cell_type": "code",
   "execution_count": 70,
   "id": "cc79b2c7",
   "metadata": {},
   "outputs": [],
   "source": [
    "from selenium.webdriver.firefox.options import Options\n",
    "from selenium.webdriver import DesiredCapabilities\n",
    "from selenium import webdriver\n",
    "from selenium.webdriver.firefox.service import Service\n",
    "\n",
    "from webdriver_manager.firefox import GeckoDriverManager\n",
    "from selenium.webdriver.common.keys import Keys\n",
    "from selenium.webdriver.support.ui import WebDriverWait\n",
    "from selenium.webdriver.support import expected_conditions as EC\n",
    "from selenium.common.exceptions import ElementClickInterceptedException,TimeoutException\n",
    "from selenium.webdriver.common.by import By\n",
    "from explicit import waiter, XPATH\n",
    "from selenium.webdriver.common.proxy import Proxy, ProxyType\n",
    "from selenium.webdriver.common.alert import Alert\n",
    "\n",
    "import random\n",
    "import time\n",
    "import pandas as pd\n",
    "from bs4 import BeautifulSoup\n",
    "import json\n",
    "from urllib.parse import urlparse\n",
    "import configparser\n",
    "import time"
   ]
  },
  {
   "cell_type": "code",
   "execution_count": 71,
   "id": "6705f9e2",
   "metadata": {},
   "outputs": [],
   "source": [
    "def read_settings():\n",
    "    config = configparser.ConfigParser()\n",
    "    config.read('config.ini')\n",
    "\n",
    "    target_vid_url = config.get(\"CTR SETTINGS\",\"TARGET_URL\")\n",
    "    keywords = config.get(\"CTR SETTINGS\",\"KEYWORDS\").split('\\n')\n",
    "    \n",
    "    return target_vid_url,keywords"
   ]
  },
  {
   "cell_type": "code",
   "execution_count": 72,
   "id": "dc5b6de3",
   "metadata": {},
   "outputs": [
    {
     "name": "stdout",
     "output_type": "stream",
     "text": [
      "https://www.youtube.com/watch?v=Xuj--2ylWp4\n"
     ]
    }
   ],
   "source": [
    "target_vid_link,keywords = read_settings()\n",
    "print(target_vid_link)"
   ]
  },
  {
   "cell_type": "code",
   "execution_count": 73,
   "id": "963cf310",
   "metadata": {},
   "outputs": [],
   "source": [
    "driver = webdriver.Firefox(service=Service(GeckoDriverManager().install()))\n",
    "driver.maximize_window()"
   ]
  },
  {
   "cell_type": "code",
   "execution_count": 74,
   "id": "39d4637b",
   "metadata": {},
   "outputs": [
    {
     "name": "stdout",
     "output_type": "stream",
     "text": [
      "No cookies popup found.\n"
     ]
    }
   ],
   "source": [
    "driver.get(\"https://www.google.com/\")\n",
    "try:\n",
    "    element = WebDriverWait(driver, 10).until(\n",
    "        EC.presence_of_element_located((By.ID, \"L2AGLb\"))\n",
    "    )\n",
    "    element.click()\n",
    "    time.sleep(5)\n",
    "except:\n",
    "    print(\"No cookies popup found.\")\n",
    "\n",
    "WebDriverWait(driver, 30).until(\n",
    "        EC.presence_of_element_located((By.NAME, \"q\"))\n",
    "    )\n",
    "search_box = driver.find_element(By.NAME, \"q\")\n",
    "keyword = \"youtube\"\n",
    "\n",
    "for letter in keyword:\n",
    "    search_box.send_keys(letter)\n",
    "    time.sleep(random.randint(0,1000)/1000)\n",
    "\n",
    "time.sleep(2)\n",
    "\n",
    "search_box.send_keys(Keys.RETURN)\n",
    "\n",
    "time.sleep(5)"
   ]
  },
  {
   "cell_type": "code",
   "execution_count": 75,
   "id": "8b048158",
   "metadata": {},
   "outputs": [],
   "source": [
    "div_element = WebDriverWait(driver, 10).until(\n",
    "        EC.presence_of_element_located((By.XPATH, f'//div[a/@href=\"https://www.youtube.com/\"]'))\n",
    "    )\n",
    "h3_element = div_element.find_element(By.XPATH, './/h3')\n",
    "h3_element.click()"
   ]
  },
  {
   "cell_type": "code",
   "execution_count": 76,
   "id": "2d883d9a",
   "metadata": {},
   "outputs": [],
   "source": [
    "time.sleep(5)\n",
    "driver.refresh()\n",
    "time.sleep(5)\n",
    "search_box = WebDriverWait(driver, 10).until(EC.element_to_be_clickable((By.NAME, \"search_query\")))\n",
    "search_box.click()\n",
    "\n",
    "yt_keyword = random.choice(keywords)\n",
    "for letter in yt_keyword:\n",
    "    search_box.send_keys(letter)\n",
    "    time.sleep(random.randint(0,1000)/1000)\n",
    "\n",
    "time.sleep(2)\n",
    "search_box.send_keys(Keys.ENTER)"
   ]
  },
  {
   "cell_type": "code",
   "execution_count": 77,
   "id": "2429774c",
   "metadata": {},
   "outputs": [
    {
     "name": "stdout",
     "output_type": "stream",
     "text": [
      "https://www.youtube.com/watch?v=UilDawNt-zQ&pp=ygUQYmxvY2sgVHdpdGNoIGFkcw%3D%3D\n",
      "https://www.youtube.com/watch?v=So22hCLIr5c&pp=ygUQYmxvY2sgVHdpdGNoIGFkcw%3D%3D\n",
      "https://www.youtube.com/watch?v=usRTY6k2Qc0&pp=ygUQYmxvY2sgVHdpdGNoIGFkcw%3D%3D\n",
      "https://www.youtube.com/watch?v=kCKphV6O6ns&pp=ygUQYmxvY2sgVHdpdGNoIGFkcw%3D%3D\n",
      "https://www.youtube.com/watch?v=gK8P0bTLUqc&pp=ygUQYmxvY2sgVHdpdGNoIGFkcw%3D%3D\n",
      "https://www.youtube.com/watch?v=R6wT4U2L_BE&pp=ygUQYmxvY2sgVHdpdGNoIGFkcw%3D%3D\n",
      "https://www.youtube.com/watch?v=OxBvMTE_nEU&pp=ygUQYmxvY2sgVHdpdGNoIGFkcw%3D%3D\n",
      "https://www.youtube.com/watch?v=2Saf4wVH5sY&pp=ygUQYmxvY2sgVHdpdGNoIGFkcw%3D%3D\n",
      "https://www.youtube.com/watch?v=zEfvOBaWPco&pp=ygUQYmxvY2sgVHdpdGNoIGFkcw%3D%3D\n",
      "https://www.youtube.com/shorts/dqwwQ8r0rV4\n",
      "https://www.youtube.com/watch?v=GSewuUe5gGg&pp=ygUQYmxvY2sgVHdpdGNoIGFkcw%3D%3D\n",
      "https://www.youtube.com/watch?v=TNi-RwmMFTk&pp=ygUQYmxvY2sgVHdpdGNoIGFkcw%3D%3D\n",
      "https://www.youtube.com/watch?v=9Qvxajx3jO8&pp=ygUQYmxvY2sgVHdpdGNoIGFkcw%3D%3D\n",
      "https://www.youtube.com/watch?v=AlY2gdFmTz4&pp=ygUQYmxvY2sgVHdpdGNoIGFkcw%3D%3D\n",
      "https://www.youtube.com/watch?v=xVgQ9dnrEQk&pp=ygUQYmxvY2sgVHdpdGNoIGFkcw%3D%3D\n",
      "https://www.youtube.com/watch?v=qT3I_IGRK9U&pp=ygUQYmxvY2sgVHdpdGNoIGFkcw%3D%3D\n",
      "https://www.youtube.com/watch?v=yjMMJ3Xjd5s&pp=ygUQYmxvY2sgVHdpdGNoIGFkcw%3D%3D\n",
      "https://www.youtube.com/watch?v=9WOgd74FGKc&pp=ygUQYmxvY2sgVHdpdGNoIGFkcw%3D%3D\n",
      "https://www.youtube.com/watch?v=O_O3xOWkKp0&pp=ygUQYmxvY2sgVHdpdGNoIGFkcw%3D%3D\n",
      "https://www.youtube.com/watch?v=iYcCsYpwII0&pp=ygUQYmxvY2sgVHdpdGNoIGFkcw%3D%3D\n",
      "https://www.youtube.com/watch?v=9O8AmlLM5JM&pp=ygUQYmxvY2sgVHdpdGNoIGFkcw%3D%3D\n",
      "https://www.youtube.com/watch?v=Hg_LqxDPRbk&pp=ygUQYmxvY2sgVHdpdGNoIGFkcw%3D%3D\n",
      "https://www.youtube.com/watch?v=xIotzRkYikk&pp=ygUQYmxvY2sgVHdpdGNoIGFkcw%3D%3D\n",
      "https://www.youtube.com/watch?v=VImVOSGISs0&pp=ygUQYmxvY2sgVHdpdGNoIGFkcw%3D%3D\n",
      "https://www.youtube.com/watch?v=kc6yJZjhnNo&pp=ygUQYmxvY2sgVHdpdGNoIGFkcw%3D%3D\n",
      "https://www.youtube.com/watch?v=OjARlw-6SVE&pp=ygUQYmxvY2sgVHdpdGNoIGFkcw%3D%3D\n",
      "https://www.youtube.com/watch?v=IvMkgnnrVSU&pp=ygUQYmxvY2sgVHdpdGNoIGFkcw%3D%3D\n",
      "https://www.youtube.com/watch?v=LW0EC4lcHoo&pp=ygUQYmxvY2sgVHdpdGNoIGFkcw%3D%3D\n",
      "https://www.youtube.com/watch?v=bSLuGRnQucc&pp=ygUQYmxvY2sgVHdpdGNoIGFkcw%3D%3D\n",
      "https://www.youtube.com/watch?v=DwoZ32QiN4I&pp=ygUQYmxvY2sgVHdpdGNoIGFkcw%3D%3D\n",
      "https://www.youtube.com/watch?v=-dQwW4E9XUw&pp=ygUQYmxvY2sgVHdpdGNoIGFkcw%3D%3D\n",
      "https://www.youtube.com/shorts/z3wYQVo3CkQ\n",
      "https://www.youtube.com/watch?v=bmavgbUsgSo&pp=ygUQYmxvY2sgVHdpdGNoIGFkcw%3D%3D\n",
      "https://www.youtube.com/watch?v=YGssJU2AL6A&pp=ygUQYmxvY2sgVHdpdGNoIGFkcw%3D%3D\n",
      "https://www.youtube.com/watch?v=4a5WZT4aSmI&pp=ygUQYmxvY2sgVHdpdGNoIGFkcw%3D%3D\n",
      "https://www.youtube.com/watch?v=dYWBuezTgWw&pp=ygUQYmxvY2sgVHdpdGNoIGFkcw%3D%3D\n",
      "https://www.youtube.com/watch?v=hn3uBkyplEE&pp=ygUQYmxvY2sgVHdpdGNoIGFkcw%3D%3D\n",
      "https://www.youtube.com/shorts/qcUhl7e2jRo\n",
      "https://www.youtube.com/watch?v=e5B7ZNGtkac&pp=ygUQYmxvY2sgVHdpdGNoIGFkcw%3D%3D\n",
      "https://www.youtube.com/watch?v=jCB7rZwO-8Q&pp=ygUQYmxvY2sgVHdpdGNoIGFkcw%3D%3D\n",
      "https://www.youtube.com/watch?v=vc3jB1mpSOE&pp=ygUQYmxvY2sgVHdpdGNoIGFkcw%3D%3D\n",
      "https://www.youtube.com/watch?v=Gct6UQXecZ0&pp=ygUQYmxvY2sgVHdpdGNoIGFkcw%3D%3D\n",
      "https://www.youtube.com/watch?v=sbLlBz4B5no&pp=ygUQYmxvY2sgVHdpdGNoIGFkcw%3D%3D\n",
      "https://www.youtube.com/watch?v=Xuj--2ylWp4&pp=ygUQYmxvY2sgVHdpdGNoIGFkcw%3D%3D\n",
      "====CHANNEL FOUND=====\n"
     ]
    }
   ],
   "source": [
    "time.sleep(5)\n",
    "driver.refresh()\n",
    "time.sleep(10)\n",
    "\n",
    "last_index = 0 \n",
    "target_not_found = True\n",
    "while target_not_found:\n",
    "    if last_index>100:\n",
    "        break\n",
    "        \n",
    "    video_links = driver.find_elements(By.CSS_SELECTOR, \"a#video-title\")\n",
    "    video_links = video_links[last_index:]\n",
    "    for video in video_links:\n",
    "        print(video.get_attribute(\"href\"))\n",
    "        if target_vid_link in video.get_attribute(\"href\"):\n",
    "            print(\"==== Video FOUND =====\")\n",
    "            target_not_found = False\n",
    "            break\n",
    "        else:\n",
    "            driver.execute_script(\"arguments[0].scrollIntoView({block: 'start', inline: 'nearest', behavior: 'smooth'});\", video)\n",
    "            time.sleep(0.5)\n",
    "        last_index += 1\n",
    "    time.sleep(5)\n",
    "    \n",
    "if not target_not_found:\n",
    "    time.sleep(5)\n",
    "    video.click()\n",
    "else:\n",
    "    driver.get(target_vid_link)"
   ]
  },
  {
   "cell_type": "code",
   "execution_count": null,
   "id": "a42c7369",
   "metadata": {},
   "outputs": [],
   "source": []
  },
  {
   "cell_type": "code",
   "execution_count": null,
   "id": "89456e57",
   "metadata": {},
   "outputs": [],
   "source": []
  }
 ],
 "metadata": {
  "kernelspec": {
   "display_name": "Python 3 (ipykernel)",
   "language": "python",
   "name": "python3"
  },
  "language_info": {
   "codemirror_mode": {
    "name": "ipython",
    "version": 3
   },
   "file_extension": ".py",
   "mimetype": "text/x-python",
   "name": "python",
   "nbconvert_exporter": "python",
   "pygments_lexer": "ipython3",
   "version": "3.9.13"
  }
 },
 "nbformat": 4,
 "nbformat_minor": 5
}
