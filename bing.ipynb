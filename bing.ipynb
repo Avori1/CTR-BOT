{
 "cells": [
  {
   "cell_type": "code",
   "execution_count": 102,
   "id": "4803c0c7",
   "metadata": {},
   "outputs": [],
   "source": [
    "from selenium.webdriver.firefox.options import Options\n",
    "from selenium.webdriver import DesiredCapabilities\n",
    "from selenium import webdriver\n",
    "from selenium.webdriver.firefox.service import Service\n",
    "\n",
    "from webdriver_manager.firefox import GeckoDriverManager\n",
    "from selenium.webdriver.common.keys import Keys\n",
    "from selenium.webdriver.support.ui import WebDriverWait\n",
    "from selenium.webdriver.support import expected_conditions as EC\n",
    "from selenium.common.exceptions import ElementClickInterceptedException,TimeoutException\n",
    "from selenium.webdriver.common.by import By\n",
    "from explicit import waiter, XPATH\n",
    "from selenium.webdriver.common.proxy import Proxy, ProxyType\n",
    "from selenium.webdriver.common.alert import Alert\n",
    "\n",
    "import random\n",
    "import time\n",
    "import pandas as pd\n",
    "from bs4 import BeautifulSoup\n",
    "import json\n",
    "import time\n",
    "import re\n",
    "from urllib.parse import urlparse\n",
    "import configparser\n",
    "import logging"
   ]
  },
  {
   "cell_type": "code",
   "execution_count": 103,
   "id": "9069e6c3",
   "metadata": {},
   "outputs": [],
   "source": [
    "def read_settings():\n",
    "    config = configparser.ConfigParser()\n",
    "    config.read('config.ini')\n",
    "\n",
    "    search_engine = config.get(\"CTR SETTINGS\",\"SEARCH_ENGINE\")\n",
    "    target_url = config.get(\"CTR SETTINGS\",\"TARGET_URL\")\n",
    "    keywords = config.get(\"CTR SETTINGS\",\"KEYWORDS\").split('\\n')\n",
    "    parsed_url = urlparse(target_url)\n",
    "    target_domain_name = parsed_url.netloc\n",
    "    \n",
    "    \n",
    "    return search_engine,target_url,keywords,target_domain_name"
   ]
  },
  {
   "cell_type": "code",
   "execution_count": 104,
   "id": "72d0b800",
   "metadata": {},
   "outputs": [],
   "source": [
    "search_engine,target_url,keywords,target_domain_name = read_settings()"
   ]
  },
  {
   "cell_type": "code",
   "execution_count": 105,
   "id": "85de413d",
   "metadata": {},
   "outputs": [
    {
     "name": "stderr",
     "output_type": "stream",
     "text": [
      "[WDM] - Downloading: 19.2kB [00:00, 19.2MB/s]                                             \n"
     ]
    }
   ],
   "source": [
    "driver = webdriver.Firefox(service=Service(GeckoDriverManager().install()))"
   ]
  },
  {
   "cell_type": "code",
   "execution_count": 106,
   "id": "cff2dbde",
   "metadata": {},
   "outputs": [],
   "source": [
    "driver.get('https://www.bing.com/')\n",
    "driver.refresh()\n",
    "\n",
    "WebDriverWait(driver, 30).until(\n",
    "        EC.presence_of_element_located((By.NAME, \"q\"))\n",
    "    )\n",
    "search_box = driver.find_element(By.NAME, \"q\")\n",
    "keyword = random.choice(keywords)\n",
    "\n",
    "for letter in keyword:\n",
    "    search_box.send_keys(letter)\n",
    "    time.sleep(random.randint(0,1000)/1000)\n",
    "\n",
    "time.sleep(2)\n",
    "\n",
    "search_box.send_keys(Keys.RETURN)\n",
    "\n",
    "time.sleep(5)"
   ]
  },
  {
   "cell_type": "code",
   "execution_count": 107,
   "id": "9e20ce4f",
   "metadata": {},
   "outputs": [
    {
     "name": "stdout",
     "output_type": "stream",
     "text": [
      "Currently in --> Page-1\n",
      "https://www.streamscheme.com/how-to-block-ad… --> How To Block Ads On Twitch In 2023 - StreamScheme\n",
      "https://cybernews.com/best-ad-blockers/ad-blocker-for-twitch --> Best ad blockers for Twitch in 2023 - Cybernews\n",
      "====== Found The Link ======= at index - 1\n"
     ]
    }
   ],
   "source": [
    "flag = True;counter=1\n",
    "logging.basicConfig(level=logging.DEBUG, filename='logger.log', filemode='w',\n",
    "                    format='%(asctime)s - %(levelname)s - %(message)s')\n",
    "logging.info(f\"\\n\\n\\n ========= {keyword} ========= \\n\")\n",
    "while flag:\n",
    "    if counter>10:\n",
    "        break\n",
    "    logging.info(f\"Currently in --> Page-{counter}\")\n",
    "    print(f\"Currently in --> Page-{counter}\")\n",
    "    try:\n",
    "        html_source = driver.page_source\n",
    "        sourcedata = html_source.encode('utf-8')\n",
    "        soup = BeautifulSoup( sourcedata , 'html.parser')\n",
    "        \n",
    "        search_results = soup.find_all(\"li\", {\"class\": \"b_algo\"})\n",
    "        for result in search_results:\n",
    "            hyperlink = result.find(\"cite\").text\n",
    "            title = result.find(\"h2\").text\n",
    "            logging.info(f\"{counter}.{hyperlink} \\n\")\n",
    "        \n",
    "            print(hyperlink,\"-->\",title)\n",
    "            if target_domain_name in hyperlink:\n",
    "                target_title = title\n",
    "                print(f\"====== Found The Link ======= at index - {counter}\")\n",
    "                flag=False\n",
    "                break\n",
    "        if flag:\n",
    "            next_button = driver.find_element(By.XPATH, \"//a[@title='Next page']\")\n",
    "            \n",
    "            desired_y = (next_button.size['height'] / 2) + next_button.location['y']\n",
    "            window_h = driver.execute_script('return window.innerHeight')\n",
    "            window_y = driver.execute_script('return window.pageYOffset')\n",
    "            current_y = (window_h / 2) + window_y\n",
    "            scroll_y_by = desired_y - current_y\n",
    "\n",
    "            for i in range(1, int(scroll_y_by), 1):\n",
    "                driver.execute_script(\"window.scrollTo(0, {});\".format(i))\n",
    "            time.sleep(3)\n",
    "            next_button.click()\n",
    "            counter+=1\n",
    "            time.sleep(5)\n",
    "    except Exception as e:\n",
    "        print(e)\n",
    "        break\n",
    "        "
   ]
  },
  {
   "cell_type": "code",
   "execution_count": 113,
   "id": "22cccd06",
   "metadata": {},
   "outputs": [],
   "source": [
    "if not flag:\n",
    "    h2_element = WebDriverWait(driver, 10).until(\n",
    "        EC.element_to_be_clickable((By.PARTIAL_LINK_TEXT,target_title))\n",
    "    )\n",
    "    desired_y = (h2_element.size['height'] / 2) + h2_element.location['y']\n",
    "    window_h = driver.execute_script('return window.innerHeight')\n",
    "    window_y = driver.execute_script('return window.pageYOffset')\n",
    "    current_y = (window_h / 2) + window_y\n",
    "    scroll_y_by = desired_y - current_y\n",
    "    \n",
    "    for i in range(1, int(scroll_y_by), 1):\n",
    "        driver.execute_script(\"window.scrollTo(0, {});\".format(i))\n",
    "    time.sleep(5)\n",
    "    h2_element.click()\n",
    "else:\n",
    "    driver.get(target_url)"
   ]
  },
  {
   "cell_type": "code",
   "execution_count": null,
   "id": "256a249e",
   "metadata": {},
   "outputs": [],
   "source": []
  }
 ],
 "metadata": {
  "kernelspec": {
   "display_name": "Python 3 (ipykernel)",
   "language": "python",
   "name": "python3"
  },
  "language_info": {
   "codemirror_mode": {
    "name": "ipython",
    "version": 3
   },
   "file_extension": ".py",
   "mimetype": "text/x-python",
   "name": "python",
   "nbconvert_exporter": "python",
   "pygments_lexer": "ipython3",
   "version": "3.9.13"
  }
 },
 "nbformat": 4,
 "nbformat_minor": 5
}
